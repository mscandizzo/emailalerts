{
 "cells": [
  {
   "cell_type": "markdown",
   "metadata": {},
   "source": [
    "## Required Modules to run your Email alert\n",
    "----------------------------------------------------------"
   ]
  },
  {
   "cell_type": "code",
   "execution_count": 1,
   "metadata": {},
   "outputs": [],
   "source": [
    "from email.mime.multipart import MIMEMultipart\n",
    "from email.mime.text import MIMEText\n",
    "import smtplib"
   ]
  },
  {
   "cell_type": "markdown",
   "metadata": {},
   "source": [
    "## Useful Modules to run your Email alert\n",
    "----------------------------------------------------------"
   ]
  },
  {
   "cell_type": "code",
   "execution_count": 2,
   "metadata": {},
   "outputs": [],
   "source": [
    "import datetime as dt\n",
    "import time as time\n",
    "from poloniex import Poloniex"
   ]
  },
  {
   "cell_type": "markdown",
   "metadata": {},
   "source": [
    "### Credentials to login to exchanges and email\n",
    "---------------------------------------------------------"
   ]
  },
  {
   "cell_type": "code",
   "execution_count": 3,
   "metadata": {},
   "outputs": [],
   "source": [
    "key = 'key goes here'\n",
    "secret = 'secret goes here'\n",
    "email_password_private = \"email password goes here\"\n",
    "polo = Poloniex(key,secret)"
   ]
  },
  {
   "cell_type": "markdown",
   "metadata": {},
   "source": [
    "## Function to send email alerts\n",
    "---------------------------------------------\n",
    "\n",
    "Inputs:\n",
    "\n",
    "    1. msgbody = email body <-- You can set any text you want to receive as alert\n",
    "    2. subject = email subject (default = 'Crypto Arbitrage') <-- You can pick the subject you prefer"
   ]
  },
  {
   "cell_type": "code",
   "execution_count": 4,
   "metadata": {},
   "outputs": [],
   "source": [
    "def trigger_email(msgbody,subject = 'Cryto Prices'):\n",
    "\n",
    "        email_from = \"mariano.scandizzo@spartners.me\"\n",
    "        email_to = \"mariano.scandizzo@spartners.me\"\n",
    "        email_user = \"mariano.scandizzo@spartners.me\"\n",
    "        email_password = email_password_private\n",
    "        smtp_server = 'smtp.office365.com'\n",
    "        smtp_port = 587\n",
    "        msg = MIMEMultipart()\n",
    "        msg['From'] = email_from\n",
    "        msg['To'] = email_to\n",
    "        msg['Subject'] = 'Crypto Arbitrage'\n",
    "        msg.attach(MIMEText(msgbody))\n",
    "        server = smtplib.SMTP(smtp_server,smtp_port)\n",
    "        server.ehlo()\n",
    "        server.starttls()\n",
    "        server.ehlo()\n",
    "        server.login(email_user,email_password)\n",
    "\n",
    "        server.sendmail(email_from,email_to, msg.as_string())\n",
    "        server.quit()"
   ]
  },
  {
   "cell_type": "markdown",
   "metadata": {},
   "source": [
    "## Intro Example: Get alert when mid price meets our target value\n",
    "-------------------------------------------------------------------------------------"
   ]
  },
  {
   "cell_type": "markdown",
   "metadata": {},
   "source": [
    "Check the datastructure provided by exchange"
   ]
  },
  {
   "cell_type": "code",
   "execution_count": 5,
   "metadata": {},
   "outputs": [
    {
     "data": {
      "text/plain": [
       "{'asks': [['0.01858970', '6.62041209']],\n",
       " 'bids': [['0.01855516', '70.24759417']],\n",
       " 'isFrozen': '0',\n",
       " 'seq': 189247506}"
      ]
     },
     "execution_count": 5,
     "metadata": {},
     "output_type": "execute_result"
    }
   ],
   "source": [
    "polo.returnOrderBook('BTC_LTC',depth=1)"
   ]
  },
  {
   "cell_type": "markdown",
   "metadata": {},
   "source": [
    "Notes:\n",
    "    Poloniex provides:\n",
    "    1. Dictionary data structure\n",
    "    2. the price values are strings NOT floats\n",
    "    \n",
    "Task:\n",
    "    1. You need to drill into the data to get only what you need\n",
    "    2. You have to convert string to float numbers\n",
    "    3. You want to calculate the mid price as the simple average of the best bid & ask (this is just an example, you can pick any other criteria you like)\n",
    "    4. You want a simple function to run every time you want to get the price information"
   ]
  },
  {
   "cell_type": "code",
   "execution_count": 6,
   "metadata": {},
   "outputs": [],
   "source": [
    "def getmidprice():\n",
    "    prices = polo.returnOrderBook('BTC_LTC',depth=1)\n",
    "    midprice = (float(prices['asks'][0][0])+ float(prices['bids'][0][0]))*.5\n",
    "    return midprice"
   ]
  },
  {
   "cell_type": "code",
   "execution_count": 7,
   "metadata": {},
   "outputs": [
    {
     "data": {
      "text/plain": [
       "0.01857243"
      ]
     },
     "execution_count": 7,
     "metadata": {},
     "output_type": "execute_result"
    }
   ],
   "source": [
    "midprice = getmidprice()\n",
    "midprice"
   ]
  },
  {
   "cell_type": "markdown",
   "metadata": {},
   "source": [
    "## Checking mid price and sending Alert\n",
    "-------------------------------------------------------\n",
    "\n",
    "A naive case would be to run a simple loop where a target price is provided and the number of times to loop to keep checking prices.\n",
    "\n",
    "Our simple loop will run n 'loops' and every time will calculate the mid price invoking the getmidprice() function we created before.\n",
    "\n",
    "If the mid market price is below our target price, it will send us an email to let us know it is time to trade.\n",
    "\n",
    "The loop will continue running until all n loops are completed."
   ]
  },
  {
   "cell_type": "code",
   "execution_count": 8,
   "metadata": {},
   "outputs": [],
   "source": [
    "def emailalert(target = None, loops = 10, msg = 'Time to trade'):\n",
    "    t = 0\n",
    "    while t < loops:\n",
    "        price = getmidprice()\n",
    "        if price < target:\n",
    "            trigger_email(msgbody = msg)\n",
    "        t +=1 "
   ]
  },
  {
   "cell_type": "markdown",
   "metadata": {},
   "source": [
    "## Let us automate the loop to run for a finite period of time\n",
    "-----------------------------------------------------------------------------------------\n",
    "\n",
    "The keep going for a finite number of seconds.\n",
    "\n",
    "I included a print statement so you can check if it is running, you can delete the line if preferred."
   ]
  },
  {
   "cell_type": "code",
   "execution_count": 9,
   "metadata": {},
   "outputs": [],
   "source": [
    "def emailalert2(runningperiod= 5 ,target = None, msg = 'Time to trade'):\n",
    "    t_end = time.time() + runningperiod\n",
    "    while time.time() <= t_end:\n",
    "        price = getmidprice()\n",
    "        if price < target:\n",
    "            trigger_email(msgbody = msg)\n",
    "            print('Running')"
   ]
  },
  {
   "cell_type": "markdown",
   "metadata": {},
   "source": [
    "Homework:\n",
    "\n",
    "    1. Add more exchanges\n",
    "    2. Add more currency pairs\n",
    "    3. Check spreads between exchanges to explore arbitrage opportunities\n",
    "    4. Use the logic of trigger email function to automate order execution"
   ]
  },
  {
   "cell_type": "code",
   "execution_count": null,
   "metadata": {},
   "outputs": [],
   "source": []
  }
 ],
 "metadata": {
  "kernelspec": {
   "display_name": "Python 3",
   "language": "python",
   "name": "python3"
  },
  "language_info": {
   "codemirror_mode": {
    "name": "ipython",
    "version": 3
   },
   "file_extension": ".py",
   "mimetype": "text/x-python",
   "name": "python",
   "nbconvert_exporter": "python",
   "pygments_lexer": "ipython3",
   "version": "3.6.4"
  }
 },
 "nbformat": 4,
 "nbformat_minor": 2
}
